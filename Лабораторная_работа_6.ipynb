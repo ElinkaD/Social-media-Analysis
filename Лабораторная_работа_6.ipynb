{
  "nbformat": 4,
  "nbformat_minor": 0,
  "metadata": {
    "colab": {
      "provenance": [],
      "collapsed_sections": [
        "5wgY2n9qiYqQ",
        "iwxVj30JjA8S",
        "4B46M5nqjlfc",
        "-vQ1IPaUj0D3"
      ]
    },
    "kernelspec": {
      "name": "python3",
      "display_name": "Python 3"
    },
    "language_info": {
      "name": "python"
    }
  },
  "cells": [
    {
      "cell_type": "markdown",
      "source": [
        "# Домашнее задание"
      ],
      "metadata": {
        "id": "dByf9pVCkCpd"
      }
    },
    {
      "cell_type": "markdown",
      "source": [
        "1. Взять 1 любой полученный список векторов из предыдущей лабы\n",
        "2. Разделить данные на обучающее и тестовое множество\n",
        "3. Выбрать метрику для релевантности поста (лайки/репосты/...). Сгруппировать все данные в несколько классов (популярный/непопулярный пост).\n",
        "4. Обучить минимум 3 классификатора\n",
        "5. Оценить их работу с помощью метрик\n",
        "6. Выбрать наилучший классификатор"
      ],
      "metadata": {
        "id": "zlzWBf4FkFiC"
      }
    },
    {
      "cell_type": "code",
      "source": [
        "import pandas as pd\n",
        "import numpy as np"
      ],
      "metadata": {
        "id": "kzI5LT2jEOoN"
      },
      "execution_count": null,
      "outputs": []
    },
    {
      "cell_type": "code",
      "source": [
        "from google.colab import drive\n",
        "drive.mount('/content/drive')"
      ],
      "metadata": {
        "colab": {
          "base_uri": "https://localhost:8080/"
        },
        "id": "1zsK09GID5t-",
        "outputId": "3e00676e-4e89-4046-cb8d-b1dc022d5cfe"
      },
      "execution_count": null,
      "outputs": [
        {
          "output_type": "stream",
          "name": "stdout",
          "text": [
            "Mounted at /content/drive\n"
          ]
        }
      ]
    },
    {
      "cell_type": "code",
      "source": [
        "#Загрузка датафрейма всех постов паблика ИТМО в ВК\n",
        "df = pd.read_csv(\"/content/drive/MyDrive/preprocessed_data_soobshchestva_itmo.csv\")\n",
        "df.head()"
      ],
      "metadata": {
        "colab": {
          "base_uri": "https://localhost:8080/",
          "height": 323
        },
        "id": "C_XUEvmdDw_M",
        "outputId": "54ae1408-9f0c-4999-c924-508ca64463a4"
      },
      "execution_count": null,
      "outputs": [
        {
          "output_type": "execute_result",
          "data": {
            "text/plain": [
              "   id_group  id_post                 data  \\\n",
              "0       -94    57196  2024-04-12 13:00:03   \n",
              "1       -94    57194  2024-04-12 09:00:02   \n",
              "2       -94    57190  2024-04-11 09:00:01   \n",
              "3       -94    57182  2024-04-10 12:39:06   \n",
              "4       -94    57181  2024-04-10 11:41:01   \n",
              "\n",
              "                                         description         title  \\\n",
              "0                                                NaN           NaN   \n",
              "1                                                NaN           NaN   \n",
              "2                                                NaN           NaN   \n",
              "3  Где узнать больше о DevOps и IT в целом? 13 ап...  Клип @itmoru   \n",
              "4                                                NaN           NaN   \n",
              "\n",
              "                                                text   views  likes  reposts  \\\n",
              "0               Пятница! А где тусуются айтишники? 👇  7473.0     11        6   \n",
              "1  Каждый из нас, своего рода, художник 👨🏻‍🎨 \\n \\...  1542.0      3        2   \n",
              "2  Мы его ждали и он возвращается! Грандиозный, л...  3634.0     89       55   \n",
              "3  Тут про свежую IT-конференцию👇🏻\\n\\nВ ролике Вя...  3703.0     18       11   \n",
              "4  Прекрасные весенние новости! ИТМО — лучший рос...  4597.0    106       18   \n",
              "\n",
              "                                      processed_text  \n",
              "0                        пятница тусоваться айтишник  \n",
              "1  каждый свой род художник особенно наш друг сев...  \n",
              "2  ждать возвращаться грандиозный летний свежий i...  \n",
              "3  свежий it-конференция ролик вячеслав евстрат s...  \n",
              "4  прекрасный весенний новость итмый хороший росс...  "
            ],
            "text/html": [
              "\n",
              "  <div id=\"df-3a0c6a3a-75e5-4e8c-86a0-f2486799ac9e\" class=\"colab-df-container\">\n",
              "    <div>\n",
              "<style scoped>\n",
              "    .dataframe tbody tr th:only-of-type {\n",
              "        vertical-align: middle;\n",
              "    }\n",
              "\n",
              "    .dataframe tbody tr th {\n",
              "        vertical-align: top;\n",
              "    }\n",
              "\n",
              "    .dataframe thead th {\n",
              "        text-align: right;\n",
              "    }\n",
              "</style>\n",
              "<table border=\"1\" class=\"dataframe\">\n",
              "  <thead>\n",
              "    <tr style=\"text-align: right;\">\n",
              "      <th></th>\n",
              "      <th>id_group</th>\n",
              "      <th>id_post</th>\n",
              "      <th>data</th>\n",
              "      <th>description</th>\n",
              "      <th>title</th>\n",
              "      <th>text</th>\n",
              "      <th>views</th>\n",
              "      <th>likes</th>\n",
              "      <th>reposts</th>\n",
              "      <th>processed_text</th>\n",
              "    </tr>\n",
              "  </thead>\n",
              "  <tbody>\n",
              "    <tr>\n",
              "      <th>0</th>\n",
              "      <td>-94</td>\n",
              "      <td>57196</td>\n",
              "      <td>2024-04-12 13:00:03</td>\n",
              "      <td>NaN</td>\n",
              "      <td>NaN</td>\n",
              "      <td>Пятница! А где тусуются айтишники? 👇</td>\n",
              "      <td>7473.0</td>\n",
              "      <td>11</td>\n",
              "      <td>6</td>\n",
              "      <td>пятница тусоваться айтишник</td>\n",
              "    </tr>\n",
              "    <tr>\n",
              "      <th>1</th>\n",
              "      <td>-94</td>\n",
              "      <td>57194</td>\n",
              "      <td>2024-04-12 09:00:02</td>\n",
              "      <td>NaN</td>\n",
              "      <td>NaN</td>\n",
              "      <td>Каждый из нас, своего рода, художник 👨🏻‍🎨 \\n \\...</td>\n",
              "      <td>1542.0</td>\n",
              "      <td>3</td>\n",
              "      <td>2</td>\n",
              "      <td>каждый свой род художник особенно наш друг сев...</td>\n",
              "    </tr>\n",
              "    <tr>\n",
              "      <th>2</th>\n",
              "      <td>-94</td>\n",
              "      <td>57190</td>\n",
              "      <td>2024-04-11 09:00:01</td>\n",
              "      <td>NaN</td>\n",
              "      <td>NaN</td>\n",
              "      <td>Мы его ждали и он возвращается! Грандиозный, л...</td>\n",
              "      <td>3634.0</td>\n",
              "      <td>89</td>\n",
              "      <td>55</td>\n",
              "      <td>ждать возвращаться грандиозный летний свежий i...</td>\n",
              "    </tr>\n",
              "    <tr>\n",
              "      <th>3</th>\n",
              "      <td>-94</td>\n",
              "      <td>57182</td>\n",
              "      <td>2024-04-10 12:39:06</td>\n",
              "      <td>Где узнать больше о DevOps и IT в целом? 13 ап...</td>\n",
              "      <td>Клип @itmoru</td>\n",
              "      <td>Тут про свежую IT-конференцию👇🏻\\n\\nВ ролике Вя...</td>\n",
              "      <td>3703.0</td>\n",
              "      <td>18</td>\n",
              "      <td>11</td>\n",
              "      <td>свежий it-конференция ролик вячеслав евстрат s...</td>\n",
              "    </tr>\n",
              "    <tr>\n",
              "      <th>4</th>\n",
              "      <td>-94</td>\n",
              "      <td>57181</td>\n",
              "      <td>2024-04-10 11:41:01</td>\n",
              "      <td>NaN</td>\n",
              "      <td>NaN</td>\n",
              "      <td>Прекрасные весенние новости! ИТМО — лучший рос...</td>\n",
              "      <td>4597.0</td>\n",
              "      <td>106</td>\n",
              "      <td>18</td>\n",
              "      <td>прекрасный весенний новость итмый хороший росс...</td>\n",
              "    </tr>\n",
              "  </tbody>\n",
              "</table>\n",
              "</div>\n",
              "    <div class=\"colab-df-buttons\">\n",
              "\n",
              "  <div class=\"colab-df-container\">\n",
              "    <button class=\"colab-df-convert\" onclick=\"convertToInteractive('df-3a0c6a3a-75e5-4e8c-86a0-f2486799ac9e')\"\n",
              "            title=\"Convert this dataframe to an interactive table.\"\n",
              "            style=\"display:none;\">\n",
              "\n",
              "  <svg xmlns=\"http://www.w3.org/2000/svg\" height=\"24px\" viewBox=\"0 -960 960 960\">\n",
              "    <path d=\"M120-120v-720h720v720H120Zm60-500h600v-160H180v160Zm220 220h160v-160H400v160Zm0 220h160v-160H400v160ZM180-400h160v-160H180v160Zm440 0h160v-160H620v160ZM180-180h160v-160H180v160Zm440 0h160v-160H620v160Z\"/>\n",
              "  </svg>\n",
              "    </button>\n",
              "\n",
              "  <style>\n",
              "    .colab-df-container {\n",
              "      display:flex;\n",
              "      gap: 12px;\n",
              "    }\n",
              "\n",
              "    .colab-df-convert {\n",
              "      background-color: #E8F0FE;\n",
              "      border: none;\n",
              "      border-radius: 50%;\n",
              "      cursor: pointer;\n",
              "      display: none;\n",
              "      fill: #1967D2;\n",
              "      height: 32px;\n",
              "      padding: 0 0 0 0;\n",
              "      width: 32px;\n",
              "    }\n",
              "\n",
              "    .colab-df-convert:hover {\n",
              "      background-color: #E2EBFA;\n",
              "      box-shadow: 0px 1px 2px rgba(60, 64, 67, 0.3), 0px 1px 3px 1px rgba(60, 64, 67, 0.15);\n",
              "      fill: #174EA6;\n",
              "    }\n",
              "\n",
              "    .colab-df-buttons div {\n",
              "      margin-bottom: 4px;\n",
              "    }\n",
              "\n",
              "    [theme=dark] .colab-df-convert {\n",
              "      background-color: #3B4455;\n",
              "      fill: #D2E3FC;\n",
              "    }\n",
              "\n",
              "    [theme=dark] .colab-df-convert:hover {\n",
              "      background-color: #434B5C;\n",
              "      box-shadow: 0px 1px 3px 1px rgba(0, 0, 0, 0.15);\n",
              "      filter: drop-shadow(0px 1px 2px rgba(0, 0, 0, 0.3));\n",
              "      fill: #FFFFFF;\n",
              "    }\n",
              "  </style>\n",
              "\n",
              "    <script>\n",
              "      const buttonEl =\n",
              "        document.querySelector('#df-3a0c6a3a-75e5-4e8c-86a0-f2486799ac9e button.colab-df-convert');\n",
              "      buttonEl.style.display =\n",
              "        google.colab.kernel.accessAllowed ? 'block' : 'none';\n",
              "\n",
              "      async function convertToInteractive(key) {\n",
              "        const element = document.querySelector('#df-3a0c6a3a-75e5-4e8c-86a0-f2486799ac9e');\n",
              "        const dataTable =\n",
              "          await google.colab.kernel.invokeFunction('convertToInteractive',\n",
              "                                                    [key], {});\n",
              "        if (!dataTable) return;\n",
              "\n",
              "        const docLinkHtml = 'Like what you see? Visit the ' +\n",
              "          '<a target=\"_blank\" href=https://colab.research.google.com/notebooks/data_table.ipynb>data table notebook</a>'\n",
              "          + ' to learn more about interactive tables.';\n",
              "        element.innerHTML = '';\n",
              "        dataTable['output_type'] = 'display_data';\n",
              "        await google.colab.output.renderOutput(dataTable, element);\n",
              "        const docLink = document.createElement('div');\n",
              "        docLink.innerHTML = docLinkHtml;\n",
              "        element.appendChild(docLink);\n",
              "      }\n",
              "    </script>\n",
              "  </div>\n",
              "\n",
              "\n",
              "<div id=\"df-97718e61-080f-444c-804a-124127271db7\">\n",
              "  <button class=\"colab-df-quickchart\" onclick=\"quickchart('df-97718e61-080f-444c-804a-124127271db7')\"\n",
              "            title=\"Suggest charts\"\n",
              "            style=\"display:none;\">\n",
              "\n",
              "<svg xmlns=\"http://www.w3.org/2000/svg\" height=\"24px\"viewBox=\"0 0 24 24\"\n",
              "     width=\"24px\">\n",
              "    <g>\n",
              "        <path d=\"M19 3H5c-1.1 0-2 .9-2 2v14c0 1.1.9 2 2 2h14c1.1 0 2-.9 2-2V5c0-1.1-.9-2-2-2zM9 17H7v-7h2v7zm4 0h-2V7h2v10zm4 0h-2v-4h2v4z\"/>\n",
              "    </g>\n",
              "</svg>\n",
              "  </button>\n",
              "\n",
              "<style>\n",
              "  .colab-df-quickchart {\n",
              "      --bg-color: #E8F0FE;\n",
              "      --fill-color: #1967D2;\n",
              "      --hover-bg-color: #E2EBFA;\n",
              "      --hover-fill-color: #174EA6;\n",
              "      --disabled-fill-color: #AAA;\n",
              "      --disabled-bg-color: #DDD;\n",
              "  }\n",
              "\n",
              "  [theme=dark] .colab-df-quickchart {\n",
              "      --bg-color: #3B4455;\n",
              "      --fill-color: #D2E3FC;\n",
              "      --hover-bg-color: #434B5C;\n",
              "      --hover-fill-color: #FFFFFF;\n",
              "      --disabled-bg-color: #3B4455;\n",
              "      --disabled-fill-color: #666;\n",
              "  }\n",
              "\n",
              "  .colab-df-quickchart {\n",
              "    background-color: var(--bg-color);\n",
              "    border: none;\n",
              "    border-radius: 50%;\n",
              "    cursor: pointer;\n",
              "    display: none;\n",
              "    fill: var(--fill-color);\n",
              "    height: 32px;\n",
              "    padding: 0;\n",
              "    width: 32px;\n",
              "  }\n",
              "\n",
              "  .colab-df-quickchart:hover {\n",
              "    background-color: var(--hover-bg-color);\n",
              "    box-shadow: 0 1px 2px rgba(60, 64, 67, 0.3), 0 1px 3px 1px rgba(60, 64, 67, 0.15);\n",
              "    fill: var(--button-hover-fill-color);\n",
              "  }\n",
              "\n",
              "  .colab-df-quickchart-complete:disabled,\n",
              "  .colab-df-quickchart-complete:disabled:hover {\n",
              "    background-color: var(--disabled-bg-color);\n",
              "    fill: var(--disabled-fill-color);\n",
              "    box-shadow: none;\n",
              "  }\n",
              "\n",
              "  .colab-df-spinner {\n",
              "    border: 2px solid var(--fill-color);\n",
              "    border-color: transparent;\n",
              "    border-bottom-color: var(--fill-color);\n",
              "    animation:\n",
              "      spin 1s steps(1) infinite;\n",
              "  }\n",
              "\n",
              "  @keyframes spin {\n",
              "    0% {\n",
              "      border-color: transparent;\n",
              "      border-bottom-color: var(--fill-color);\n",
              "      border-left-color: var(--fill-color);\n",
              "    }\n",
              "    20% {\n",
              "      border-color: transparent;\n",
              "      border-left-color: var(--fill-color);\n",
              "      border-top-color: var(--fill-color);\n",
              "    }\n",
              "    30% {\n",
              "      border-color: transparent;\n",
              "      border-left-color: var(--fill-color);\n",
              "      border-top-color: var(--fill-color);\n",
              "      border-right-color: var(--fill-color);\n",
              "    }\n",
              "    40% {\n",
              "      border-color: transparent;\n",
              "      border-right-color: var(--fill-color);\n",
              "      border-top-color: var(--fill-color);\n",
              "    }\n",
              "    60% {\n",
              "      border-color: transparent;\n",
              "      border-right-color: var(--fill-color);\n",
              "    }\n",
              "    80% {\n",
              "      border-color: transparent;\n",
              "      border-right-color: var(--fill-color);\n",
              "      border-bottom-color: var(--fill-color);\n",
              "    }\n",
              "    90% {\n",
              "      border-color: transparent;\n",
              "      border-bottom-color: var(--fill-color);\n",
              "    }\n",
              "  }\n",
              "</style>\n",
              "\n",
              "  <script>\n",
              "    async function quickchart(key) {\n",
              "      const quickchartButtonEl =\n",
              "        document.querySelector('#' + key + ' button');\n",
              "      quickchartButtonEl.disabled = true;  // To prevent multiple clicks.\n",
              "      quickchartButtonEl.classList.add('colab-df-spinner');\n",
              "      try {\n",
              "        const charts = await google.colab.kernel.invokeFunction(\n",
              "            'suggestCharts', [key], {});\n",
              "      } catch (error) {\n",
              "        console.error('Error during call to suggestCharts:', error);\n",
              "      }\n",
              "      quickchartButtonEl.classList.remove('colab-df-spinner');\n",
              "      quickchartButtonEl.classList.add('colab-df-quickchart-complete');\n",
              "    }\n",
              "    (() => {\n",
              "      let quickchartButtonEl =\n",
              "        document.querySelector('#df-97718e61-080f-444c-804a-124127271db7 button');\n",
              "      quickchartButtonEl.style.display =\n",
              "        google.colab.kernel.accessAllowed ? 'block' : 'none';\n",
              "    })();\n",
              "  </script>\n",
              "</div>\n",
              "    </div>\n",
              "  </div>\n"
            ],
            "application/vnd.google.colaboratory.intrinsic+json": {
              "type": "dataframe",
              "variable_name": "df",
              "summary": "{\n  \"name\": \"df\",\n  \"rows\": 15519,\n  \"fields\": [\n    {\n      \"column\": \"id_group\",\n      \"properties\": {\n        \"dtype\": \"number\",\n        \"std\": 0,\n        \"min\": -94,\n        \"max\": -94,\n        \"num_unique_values\": 1,\n        \"samples\": [\n          -94\n        ],\n        \"semantic_type\": \"\",\n        \"description\": \"\"\n      }\n    },\n    {\n      \"column\": \"id_post\",\n      \"properties\": {\n        \"dtype\": \"number\",\n        \"std\": 17491,\n        \"min\": 1,\n        \"max\": 57196,\n        \"num_unique_values\": 15519,\n        \"samples\": [\n          39887\n        ],\n        \"semantic_type\": \"\",\n        \"description\": \"\"\n      }\n    },\n    {\n      \"column\": \"data\",\n      \"properties\": {\n        \"dtype\": \"object\",\n        \"num_unique_values\": 15516,\n        \"samples\": [\n          \"2019-03-18 14:00:08\"\n        ],\n        \"semantic_type\": \"\",\n        \"description\": \"\"\n      }\n    },\n    {\n      \"column\": \"description\",\n      \"properties\": {\n        \"dtype\": \"category\",\n        \"num_unique_values\": 1264,\n        \"samples\": [\n          \"26 \\u043d\\u043e\\u044f\\u0431\\u0440\\u044f \\u043f\\u0440\\u043e\\u0439\\u0434\\u0435\\u0442 IV on-line \\u043a\\u043e\\u043d\\u0444\\u0435\\u0440\\u0435\\u043d\\u0446\\u0438\\u044f \\u0441 \\u0440\\u0435\\u043a\\u0442\\u043e\\u0440\\u043e\\u043c \\u0412\\u0430\\u0441\\u0438\\u043b\\u044c\\u0435\\u0432\\u044b\\u043c \\u0412.\\u041d. \\u043d\\u0430 \\u043f\\u043e\\u0440\\u0442\\u0430\\u043b\\u0435 \\u041d\\u0418\\u0423 \\u0418\\u0422\\u041c\\u041e.\\n\\n\\u0412\\u044b \\u0441\\u043c\\u043e\\u0436\\u0435\\u0442\\u0435 \\u0441\\u043b\\u0435\\u0434\\u0438\\u0442\\u044c \\u0437\\u0430 \\u043d\\u0435\\u0439 \\u043d\\u0430 \\u043f\\u043e\\u0440\\u0442\\u0430\\u043b\\u0435 \\u0423\\u043d\\u0438\\u0432\\u0435\\u0440\\u0441\\u0438\\u0442\\u0435\\u0442\\u0430, \\u0433\\u0434\\u0435 \\u0431\\u0443\\u0434\\u0435\\u0442 \\u0432\\u0435\\u0441\\u0442\\u0438\\u0441\\u044c \\u0432\\u0438\\u0434\\u0435\\u043e-\\u0442\\u0440\\u0430\\u043d\\u0441\\u043b\\u044f\\u0446\\u0438\\u044f \\u043a\\u043e\\u043d\\u0444\\u0435\\u0440\\u0435\\u043d\\u0446\\u0438\\u0438 \\u0432 \\u0440\\u0435\\u0436\\u0438\\u043c\\u0435 \\u0440\\u0435\\u0430\\u043b\\u044c\\u043d\\u043e\\u0433\\u043e \\u0432\\u0440\\u0435\\u043c\\u0435\\u043d\\u0438. \\u0412\\u043e\\u043f\\u0440\\u043e\\u0441\\u044b, \\u043a\\u043e\\u0442\\u043e\\u0440\\u044b\\u0435 \\u043f\\u0440\\u043e\\u0437\\u0432\\u0443\\u0447\\u0430\\u0442 \\u043d\\u0430 \\u043a\\u043e\\u043d\\u0444\\u0435\\u0440\\u0435\\u043d\\u0446\\u0438\\u0438, \\u043d\\u0435\\u043e\\u0431\\u0445\\u043e\\u0434\\u0438\\u043c\\u043e \\u043e\\u0441\\u0442\\u0430\\u0432\\u043b\\u044f\\u0442\\u044c \\u043d\\u0430 \\u043f\\u043e\\u0440\\u0442\\u0430\\u043b\\u0435 \\u0432 \\u0440\\u0430\\u0437\\u0434\\u0435\\u043b\\u0435 \\\"\\u0412\\u043e\\u043f\\u0440\\u043e\\u0441 \\u0440\\u0435\\u043a\\u0442\\u043e\\u0440\\u0443\\\". \\u0412\\u043e\\u043f\\u0440\\u043e\\u0441\\u044b \\u0441\\u043c\\u043e\\u0433\\u0443\\u0442 \\u043e\\u0441\\u0442\\u0430\\u0432\\u043b\\u044f\\u0442\\u044c \\u0437\\u0430\\u0440\\u0435\\u0433\\u0438\\u0441\\u0442\\u0440\\u0438\\u0440\\u043e\\u0432\\u0430\\u043d\\u043d\\u044b\\u0435  \\u043f\\u043e\\u043b\\u044c\\u0437\\u043e\\u0432\\u0430\\u0442\\u0435\\u043b\\u0438 \\u0441\\u043e \\u0441\\u0442\\u0430\\u0442\\u0443\\u0441\\u0430\\u043c\\u0438: \\u0441\\u0442\\u0443\\u0434\\u0435\\u043d\\u0442, \\u0430\\u0441\\u043f\\u0438\\u0440\\u0430\\u043d\\u0442, \\u041f\\u041f\\u0421, \\u0441\\u043e\\u0442\\u0440\\u0443\\u0434\\u043d\\u0438\\u043a, \\u0432\\u044b\\u043f\\u0443\\u0441\\u043a\\u043d\\u0438\\u043a \\u0438 \\u0430\\u0431\\u0438\\u0442\\u0443\\u0440\\u0438\\u0435\\u043d\\u0442.\\n\\n\\u0412\\u0441\\u0435 \\u0432\\u043e\\u043f\\u0440\\u043e\\u0441\\u044b \\u0431\\u0443\\u0434\\u0443\\u0442 \\u0437\\u0430\\u0440\\u0430\\u043d\\u0435\\u0435 \\u043e\\u0442\\u0441\\u043e\\u0440\\u0442\\u0438\\u0440\\u043e\\u0432\\u0430\\u043d\\u044b \\u043f\\u043e \\u0440\\u0443\\u0431\\u0440\\u0438\\u043a\\u0430\\u043c, \\u0438\\u0437 \\u043a\\u0430\\u0436\\u0434\\u043e\"\n        ],\n        \"semantic_type\": \"\",\n        \"description\": \"\"\n      }\n    },\n    {\n      \"column\": \"title\",\n      \"properties\": {\n        \"dtype\": \"category\",\n        \"num_unique_values\": 2189,\n        \"samples\": [\n          \"ITMO.STARS \\u2014 \\u043f\\u043e\\u0441\\u0442\\u0443\\u043f\\u0438 \\u0432 \\u0423\\u043d\\u0438\\u0432\\u0435\\u0440\\u0441\\u0438\\u0442\\u0435\\u0442 \\u0418\\u0422\\u041c\\u041e \\u043d\\u0435 \\u043a\\u0430\\u043a \\u0432\\u0441\\u0435!\"\n        ],\n        \"semantic_type\": \"\",\n        \"description\": \"\"\n      }\n    },\n    {\n      \"column\": \"text\",\n      \"properties\": {\n        \"dtype\": \"string\",\n        \"num_unique_values\": 14080,\n        \"samples\": [\n          \"9 \\u043d\\u043e\\u044f\\u0431\\u0440\\u044f \\u0432 \\u0423\\u043d\\u0438\\u0432\\u0435\\u0440\\u0441\\u0438\\u0442\\u0435\\u0442\\u0435 \\u0418\\u0422\\u041c\\u041e \\u0441\\u0442\\u0430\\u0440\\u0442\\u0443\\u0435\\u0442 \\u043f\\u0435\\u0440\\u0432\\u044b\\u0439 \\u0432 \\u041f\\u0435\\u0442\\u0435\\u0440\\u0431\\u0443\\u0440\\u0433\\u0435 \\u043a\\u0443\\u0440\\u0441 \\u043f\\u043e \\u043d\\u0430\\u0443\\u0447\\u043d\\u043e\\u0439 \\u043a\\u043e\\u043c\\u043c\\u0443\\u043d\\u0438\\u043a\\u0430\\u0446\\u0438\\u0438. \\u0412 \\u0442\\u0435\\u0447\\u0435\\u043d\\u0438\\u0435 \\u043c\\u0435\\u0441\\u044f\\u0446\\u0430 \\u0442\\u0435, \\u043a\\u0442\\u043e \\u0437\\u0430\\u0438\\u043d\\u0442\\u0435\\u0440\\u0435\\u0441\\u043e\\u0432\\u0430\\u043d \\u0432 \\u043f\\u043e\\u043f\\u0443\\u043b\\u044f\\u0440\\u0438\\u0437\\u0430\\u0446\\u0438\\u0438 \\u043d\\u0430\\u0443\\u043a\\u0438, \\u043f\\u0440\\u043e\\u0439\\u0434\\u0443\\u0442 \\u043e\\u0431\\u0443\\u0447\\u0435\\u043d\\u0438\\u0435 \\u0443 \\u0432\\u0435\\u0434\\u0443\\u0449\\u0438\\u0445 \\u0440\\u043e\\u0441\\u0441\\u0438\\u0439\\u0441\\u043a\\u0438\\u0445 \\u0438 \\u0437\\u0430\\u0440\\u0443\\u0431\\u0435\\u0436\\u043d\\u044b\\u0445 \\u044d\\u043a\\u0441\\u043f\\u0435\\u0440\\u0442\\u043e\\u0432. \\u041e\\u0434\\u043d\\u0438\\u043c \\u0438\\u0437 \\u043f\\u0440\\u0435\\u043f\\u043e\\u0434\\u0430\\u0432\\u0430\\u0442\\u0435\\u043b\\u0435\\u0439 \\u043a\\u0443\\u0440\\u0441\\u0430 \\u0441\\u0442\\u0430\\u043b \\u0440\\u0435\\u0434\\u0430\\u043a\\u0442\\u043e\\u0440 \\u043d\\u0430\\u0443\\u0447\\u043d\\u043e-\\u043f\\u043e\\u043f\\u0443\\u043b\\u044f\\u0440\\u043d\\u043e\\u0433\\u043e \\u0430\\u043b\\u044c\\u043c\\u0430\\u043d\\u0430\\u0445\\u0430 metkere.com \\u0418\\u043b\\u044c\\u044f \\u041a\\u0430\\u0431\\u0430\\u043d\\u043e\\u0432. \\u0412 \\u0438\\u043d\\u0442\\u0435\\u0440\\u0432\\u044c\\u044e \\u043f\\u043e\\u0440\\u0442\\u0430\\u043b\\u0443 \\u0423\\u043d\\u0438\\u0432\\u0435\\u0440\\u0441\\u0438\\u0442\\u0435\\u0442\\u0430 \\u0418\\u0422\\u041c\\u041e \\u0418\\u043b\\u044c\\u044f \\u0440\\u0430\\u0441\\u0441\\u043a\\u0430\\u0437\\u0430\\u043b \\u043e \\u0442\\u043e\\u043c, \\u043f\\u043e\\u0447\\u0435\\u043c\\u0443 \\u0432 \\u043d\\u0430\\u0443\\u0447\\u043d\\u043e\\u0439 \\u043f\\u043e\\u043f\\u0443\\u043b\\u044f\\u0440\\u0438\\u0437\\u0430\\u0446\\u0438\\u0438 \\u043d\\u0443\\u0436\\u043d\\u044b \\u0448\\u0443\\u0442\\u043a\\u0438, \\u043e\\u0442\\u0447\\u0435\\u0433\\u043e \\u043d\\u0430\\u0443\\u043a\\u0430 \\u0441\\u0430\\u043c\\u0430 \\u043f\\u043e \\u0441\\u0435\\u0431\\u0435 \\u0441\\u0442\\u0430\\u043b\\u0430 \\u0442\\u0440\\u0435\\u043d\\u0434\\u043e\\u043c, \\u0430 \\u0442\\u0430\\u043a\\u0436\\u0435 \\u043e \\u0441\\u0432\\u043e\\u0435\\u043c \\u0443\\u0447\\u0430\\u0441\\u0442\\u0438\\u0438 \\u0432 \\u043f\\u0440\\u043e\\u0435\\u043a\\u0442\\u0435 \\u00ab\\u041c\\u0438\\u0441\\u0441\\u0438\\u044f SciComm\\u00bb.\\n\\n\\u0418\\u043d\\u0442\\u0435\\u0440\\u0432\\u044c\\u044e \\u0441 \\u0418\\u043b\\u044c\\u0435\\u0439 \\u041a\\u0430\\u0431\\u0430\\u043d\\u043e\\u0432\\u044b\\u043c: http://vk.cc/4nSbjv\\n\\u041f\\u043e\\u0434\\u0440\\u043e\\u0431\\u043d\\u0435\\u0435 \\u043e \\u043a\\u0443\\u0440\\u0441\\u0435: http://vk.cc/4nS936\\n\\n#\\u0418\\u0422\\u041c\\u041e #ITMO #SciComm\"\n        ],\n        \"semantic_type\": \"\",\n        \"description\": \"\"\n      }\n    },\n    {\n      \"column\": \"views\",\n      \"properties\": {\n        \"dtype\": \"number\",\n        \"std\": 16176.362569290279,\n        \"min\": 1542.0,\n        \"max\": 850279.0,\n        \"num_unique_values\": 3949,\n        \"samples\": [\n          7047.0\n        ],\n        \"semantic_type\": \"\",\n        \"description\": \"\"\n      }\n    },\n    {\n      \"column\": \"likes\",\n      \"properties\": {\n        \"dtype\": \"number\",\n        \"std\": 69,\n        \"min\": 0,\n        \"max\": 4367,\n        \"num_unique_values\": 372,\n        \"samples\": [\n          319\n        ],\n        \"semantic_type\": \"\",\n        \"description\": \"\"\n      }\n    },\n    {\n      \"column\": \"reposts\",\n      \"properties\": {\n        \"dtype\": \"number\",\n        \"std\": 24,\n        \"min\": 0,\n        \"max\": 987,\n        \"num_unique_values\": 193,\n        \"samples\": [\n          28\n        ],\n        \"semantic_type\": \"\",\n        \"description\": \"\"\n      }\n    },\n    {\n      \"column\": \"processed_text\",\n      \"properties\": {\n        \"dtype\": \"string\",\n        \"num_unique_values\": 13839,\n        \"samples\": [\n          \"\\u0441\\u0435\\u0441\\u0441\\u0438\\u044f \\u0437\\u0430\\u043a\\u0440\\u044b\\u0442\\u044c \\u0441\\u0435\\u0433\\u043e\\u0434\\u043d\\u044f \\u0443\\u0440\\u0430\\u0430\\u0430\\u0430\\u0430\\u0430\\u0430\\u0430\\u0430\\u0430\\u0430\\u0430\\u0430\\u0430\\u0430\\u0430\\u0430\\u0430 \\u043f\\u043e\\u0441\\u043b\\u0435\\u0434\\u043d\\u0438\\u0439 \\u0441\\u0435\\u0441\\u0441\\u0438\\u044f\"\n        ],\n        \"semantic_type\": \"\",\n        \"description\": \"\"\n      }\n    }\n  ]\n}"
            }
          },
          "metadata": {},
          "execution_count": 11
        }
      ]
    },
    {
      "cell_type": "code",
      "source": [
        "# Удаление строк, которые не являются строками, из столбца 'processed_text', чтобы совподали длины векторов с количеством столбцов\n",
        "df = df.drop(df[~df['processed_text'].apply(lambda x: isinstance(x, str))].index)\n",
        "df.head()"
      ],
      "metadata": {
        "colab": {
          "base_uri": "https://localhost:8080/",
          "height": 323
        },
        "id": "KRzUvydD-cVK",
        "outputId": "3b9331bf-57bb-49b1-de0b-fea3f1545ea4"
      },
      "execution_count": null,
      "outputs": [
        {
          "output_type": "execute_result",
          "data": {
            "text/plain": [
              "   id_group  id_post                 data  \\\n",
              "0       -94    57196  2024-04-12 13:00:03   \n",
              "1       -94    57194  2024-04-12 09:00:02   \n",
              "2       -94    57190  2024-04-11 09:00:01   \n",
              "3       -94    57182  2024-04-10 12:39:06   \n",
              "4       -94    57181  2024-04-10 11:41:01   \n",
              "\n",
              "                                         description         title  \\\n",
              "0                                                NaN           NaN   \n",
              "1                                                NaN           NaN   \n",
              "2                                                NaN           NaN   \n",
              "3  Где узнать больше о DevOps и IT в целом? 13 ап...  Клип @itmoru   \n",
              "4                                                NaN           NaN   \n",
              "\n",
              "                                                text   views  likes  reposts  \\\n",
              "0               Пятница! А где тусуются айтишники? 👇  7473.0     11        6   \n",
              "1  Каждый из нас, своего рода, художник 👨🏻‍🎨 \\n \\...  1542.0      3        2   \n",
              "2  Мы его ждали и он возвращается! Грандиозный, л...  3634.0     89       55   \n",
              "3  Тут про свежую IT-конференцию👇🏻\\n\\nВ ролике Вя...  3703.0     18       11   \n",
              "4  Прекрасные весенние новости! ИТМО — лучший рос...  4597.0    106       18   \n",
              "\n",
              "                                      processed_text  \n",
              "0                        пятница тусоваться айтишник  \n",
              "1  каждый свой род художник особенно наш друг сев...  \n",
              "2  ждать возвращаться грандиозный летний свежий i...  \n",
              "3  свежий it-конференция ролик вячеслав евстрат s...  \n",
              "4  прекрасный весенний новость итмый хороший росс...  "
            ],
            "text/html": [
              "\n",
              "  <div id=\"df-d5179472-5819-406b-950b-8a2c42afebcd\" class=\"colab-df-container\">\n",
              "    <div>\n",
              "<style scoped>\n",
              "    .dataframe tbody tr th:only-of-type {\n",
              "        vertical-align: middle;\n",
              "    }\n",
              "\n",
              "    .dataframe tbody tr th {\n",
              "        vertical-align: top;\n",
              "    }\n",
              "\n",
              "    .dataframe thead th {\n",
              "        text-align: right;\n",
              "    }\n",
              "</style>\n",
              "<table border=\"1\" class=\"dataframe\">\n",
              "  <thead>\n",
              "    <tr style=\"text-align: right;\">\n",
              "      <th></th>\n",
              "      <th>id_group</th>\n",
              "      <th>id_post</th>\n",
              "      <th>data</th>\n",
              "      <th>description</th>\n",
              "      <th>title</th>\n",
              "      <th>text</th>\n",
              "      <th>views</th>\n",
              "      <th>likes</th>\n",
              "      <th>reposts</th>\n",
              "      <th>processed_text</th>\n",
              "    </tr>\n",
              "  </thead>\n",
              "  <tbody>\n",
              "    <tr>\n",
              "      <th>0</th>\n",
              "      <td>-94</td>\n",
              "      <td>57196</td>\n",
              "      <td>2024-04-12 13:00:03</td>\n",
              "      <td>NaN</td>\n",
              "      <td>NaN</td>\n",
              "      <td>Пятница! А где тусуются айтишники? 👇</td>\n",
              "      <td>7473.0</td>\n",
              "      <td>11</td>\n",
              "      <td>6</td>\n",
              "      <td>пятница тусоваться айтишник</td>\n",
              "    </tr>\n",
              "    <tr>\n",
              "      <th>1</th>\n",
              "      <td>-94</td>\n",
              "      <td>57194</td>\n",
              "      <td>2024-04-12 09:00:02</td>\n",
              "      <td>NaN</td>\n",
              "      <td>NaN</td>\n",
              "      <td>Каждый из нас, своего рода, художник 👨🏻‍🎨 \\n \\...</td>\n",
              "      <td>1542.0</td>\n",
              "      <td>3</td>\n",
              "      <td>2</td>\n",
              "      <td>каждый свой род художник особенно наш друг сев...</td>\n",
              "    </tr>\n",
              "    <tr>\n",
              "      <th>2</th>\n",
              "      <td>-94</td>\n",
              "      <td>57190</td>\n",
              "      <td>2024-04-11 09:00:01</td>\n",
              "      <td>NaN</td>\n",
              "      <td>NaN</td>\n",
              "      <td>Мы его ждали и он возвращается! Грандиозный, л...</td>\n",
              "      <td>3634.0</td>\n",
              "      <td>89</td>\n",
              "      <td>55</td>\n",
              "      <td>ждать возвращаться грандиозный летний свежий i...</td>\n",
              "    </tr>\n",
              "    <tr>\n",
              "      <th>3</th>\n",
              "      <td>-94</td>\n",
              "      <td>57182</td>\n",
              "      <td>2024-04-10 12:39:06</td>\n",
              "      <td>Где узнать больше о DevOps и IT в целом? 13 ап...</td>\n",
              "      <td>Клип @itmoru</td>\n",
              "      <td>Тут про свежую IT-конференцию👇🏻\\n\\nВ ролике Вя...</td>\n",
              "      <td>3703.0</td>\n",
              "      <td>18</td>\n",
              "      <td>11</td>\n",
              "      <td>свежий it-конференция ролик вячеслав евстрат s...</td>\n",
              "    </tr>\n",
              "    <tr>\n",
              "      <th>4</th>\n",
              "      <td>-94</td>\n",
              "      <td>57181</td>\n",
              "      <td>2024-04-10 11:41:01</td>\n",
              "      <td>NaN</td>\n",
              "      <td>NaN</td>\n",
              "      <td>Прекрасные весенние новости! ИТМО — лучший рос...</td>\n",
              "      <td>4597.0</td>\n",
              "      <td>106</td>\n",
              "      <td>18</td>\n",
              "      <td>прекрасный весенний новость итмый хороший росс...</td>\n",
              "    </tr>\n",
              "  </tbody>\n",
              "</table>\n",
              "</div>\n",
              "    <div class=\"colab-df-buttons\">\n",
              "\n",
              "  <div class=\"colab-df-container\">\n",
              "    <button class=\"colab-df-convert\" onclick=\"convertToInteractive('df-d5179472-5819-406b-950b-8a2c42afebcd')\"\n",
              "            title=\"Convert this dataframe to an interactive table.\"\n",
              "            style=\"display:none;\">\n",
              "\n",
              "  <svg xmlns=\"http://www.w3.org/2000/svg\" height=\"24px\" viewBox=\"0 -960 960 960\">\n",
              "    <path d=\"M120-120v-720h720v720H120Zm60-500h600v-160H180v160Zm220 220h160v-160H400v160Zm0 220h160v-160H400v160ZM180-400h160v-160H180v160Zm440 0h160v-160H620v160ZM180-180h160v-160H180v160Zm440 0h160v-160H620v160Z\"/>\n",
              "  </svg>\n",
              "    </button>\n",
              "\n",
              "  <style>\n",
              "    .colab-df-container {\n",
              "      display:flex;\n",
              "      gap: 12px;\n",
              "    }\n",
              "\n",
              "    .colab-df-convert {\n",
              "      background-color: #E8F0FE;\n",
              "      border: none;\n",
              "      border-radius: 50%;\n",
              "      cursor: pointer;\n",
              "      display: none;\n",
              "      fill: #1967D2;\n",
              "      height: 32px;\n",
              "      padding: 0 0 0 0;\n",
              "      width: 32px;\n",
              "    }\n",
              "\n",
              "    .colab-df-convert:hover {\n",
              "      background-color: #E2EBFA;\n",
              "      box-shadow: 0px 1px 2px rgba(60, 64, 67, 0.3), 0px 1px 3px 1px rgba(60, 64, 67, 0.15);\n",
              "      fill: #174EA6;\n",
              "    }\n",
              "\n",
              "    .colab-df-buttons div {\n",
              "      margin-bottom: 4px;\n",
              "    }\n",
              "\n",
              "    [theme=dark] .colab-df-convert {\n",
              "      background-color: #3B4455;\n",
              "      fill: #D2E3FC;\n",
              "    }\n",
              "\n",
              "    [theme=dark] .colab-df-convert:hover {\n",
              "      background-color: #434B5C;\n",
              "      box-shadow: 0px 1px 3px 1px rgba(0, 0, 0, 0.15);\n",
              "      filter: drop-shadow(0px 1px 2px rgba(0, 0, 0, 0.3));\n",
              "      fill: #FFFFFF;\n",
              "    }\n",
              "  </style>\n",
              "\n",
              "    <script>\n",
              "      const buttonEl =\n",
              "        document.querySelector('#df-d5179472-5819-406b-950b-8a2c42afebcd button.colab-df-convert');\n",
              "      buttonEl.style.display =\n",
              "        google.colab.kernel.accessAllowed ? 'block' : 'none';\n",
              "\n",
              "      async function convertToInteractive(key) {\n",
              "        const element = document.querySelector('#df-d5179472-5819-406b-950b-8a2c42afebcd');\n",
              "        const dataTable =\n",
              "          await google.colab.kernel.invokeFunction('convertToInteractive',\n",
              "                                                    [key], {});\n",
              "        if (!dataTable) return;\n",
              "\n",
              "        const docLinkHtml = 'Like what you see? Visit the ' +\n",
              "          '<a target=\"_blank\" href=https://colab.research.google.com/notebooks/data_table.ipynb>data table notebook</a>'\n",
              "          + ' to learn more about interactive tables.';\n",
              "        element.innerHTML = '';\n",
              "        dataTable['output_type'] = 'display_data';\n",
              "        await google.colab.output.renderOutput(dataTable, element);\n",
              "        const docLink = document.createElement('div');\n",
              "        docLink.innerHTML = docLinkHtml;\n",
              "        element.appendChild(docLink);\n",
              "      }\n",
              "    </script>\n",
              "  </div>\n",
              "\n",
              "\n",
              "<div id=\"df-361dad1c-44d5-4083-afd1-c8f8c686be4c\">\n",
              "  <button class=\"colab-df-quickchart\" onclick=\"quickchart('df-361dad1c-44d5-4083-afd1-c8f8c686be4c')\"\n",
              "            title=\"Suggest charts\"\n",
              "            style=\"display:none;\">\n",
              "\n",
              "<svg xmlns=\"http://www.w3.org/2000/svg\" height=\"24px\"viewBox=\"0 0 24 24\"\n",
              "     width=\"24px\">\n",
              "    <g>\n",
              "        <path d=\"M19 3H5c-1.1 0-2 .9-2 2v14c0 1.1.9 2 2 2h14c1.1 0 2-.9 2-2V5c0-1.1-.9-2-2-2zM9 17H7v-7h2v7zm4 0h-2V7h2v10zm4 0h-2v-4h2v4z\"/>\n",
              "    </g>\n",
              "</svg>\n",
              "  </button>\n",
              "\n",
              "<style>\n",
              "  .colab-df-quickchart {\n",
              "      --bg-color: #E8F0FE;\n",
              "      --fill-color: #1967D2;\n",
              "      --hover-bg-color: #E2EBFA;\n",
              "      --hover-fill-color: #174EA6;\n",
              "      --disabled-fill-color: #AAA;\n",
              "      --disabled-bg-color: #DDD;\n",
              "  }\n",
              "\n",
              "  [theme=dark] .colab-df-quickchart {\n",
              "      --bg-color: #3B4455;\n",
              "      --fill-color: #D2E3FC;\n",
              "      --hover-bg-color: #434B5C;\n",
              "      --hover-fill-color: #FFFFFF;\n",
              "      --disabled-bg-color: #3B4455;\n",
              "      --disabled-fill-color: #666;\n",
              "  }\n",
              "\n",
              "  .colab-df-quickchart {\n",
              "    background-color: var(--bg-color);\n",
              "    border: none;\n",
              "    border-radius: 50%;\n",
              "    cursor: pointer;\n",
              "    display: none;\n",
              "    fill: var(--fill-color);\n",
              "    height: 32px;\n",
              "    padding: 0;\n",
              "    width: 32px;\n",
              "  }\n",
              "\n",
              "  .colab-df-quickchart:hover {\n",
              "    background-color: var(--hover-bg-color);\n",
              "    box-shadow: 0 1px 2px rgba(60, 64, 67, 0.3), 0 1px 3px 1px rgba(60, 64, 67, 0.15);\n",
              "    fill: var(--button-hover-fill-color);\n",
              "  }\n",
              "\n",
              "  .colab-df-quickchart-complete:disabled,\n",
              "  .colab-df-quickchart-complete:disabled:hover {\n",
              "    background-color: var(--disabled-bg-color);\n",
              "    fill: var(--disabled-fill-color);\n",
              "    box-shadow: none;\n",
              "  }\n",
              "\n",
              "  .colab-df-spinner {\n",
              "    border: 2px solid var(--fill-color);\n",
              "    border-color: transparent;\n",
              "    border-bottom-color: var(--fill-color);\n",
              "    animation:\n",
              "      spin 1s steps(1) infinite;\n",
              "  }\n",
              "\n",
              "  @keyframes spin {\n",
              "    0% {\n",
              "      border-color: transparent;\n",
              "      border-bottom-color: var(--fill-color);\n",
              "      border-left-color: var(--fill-color);\n",
              "    }\n",
              "    20% {\n",
              "      border-color: transparent;\n",
              "      border-left-color: var(--fill-color);\n",
              "      border-top-color: var(--fill-color);\n",
              "    }\n",
              "    30% {\n",
              "      border-color: transparent;\n",
              "      border-left-color: var(--fill-color);\n",
              "      border-top-color: var(--fill-color);\n",
              "      border-right-color: var(--fill-color);\n",
              "    }\n",
              "    40% {\n",
              "      border-color: transparent;\n",
              "      border-right-color: var(--fill-color);\n",
              "      border-top-color: var(--fill-color);\n",
              "    }\n",
              "    60% {\n",
              "      border-color: transparent;\n",
              "      border-right-color: var(--fill-color);\n",
              "    }\n",
              "    80% {\n",
              "      border-color: transparent;\n",
              "      border-right-color: var(--fill-color);\n",
              "      border-bottom-color: var(--fill-color);\n",
              "    }\n",
              "    90% {\n",
              "      border-color: transparent;\n",
              "      border-bottom-color: var(--fill-color);\n",
              "    }\n",
              "  }\n",
              "</style>\n",
              "\n",
              "  <script>\n",
              "    async function quickchart(key) {\n",
              "      const quickchartButtonEl =\n",
              "        document.querySelector('#' + key + ' button');\n",
              "      quickchartButtonEl.disabled = true;  // To prevent multiple clicks.\n",
              "      quickchartButtonEl.classList.add('colab-df-spinner');\n",
              "      try {\n",
              "        const charts = await google.colab.kernel.invokeFunction(\n",
              "            'suggestCharts', [key], {});\n",
              "      } catch (error) {\n",
              "        console.error('Error during call to suggestCharts:', error);\n",
              "      }\n",
              "      quickchartButtonEl.classList.remove('colab-df-spinner');\n",
              "      quickchartButtonEl.classList.add('colab-df-quickchart-complete');\n",
              "    }\n",
              "    (() => {\n",
              "      let quickchartButtonEl =\n",
              "        document.querySelector('#df-361dad1c-44d5-4083-afd1-c8f8c686be4c button');\n",
              "      quickchartButtonEl.style.display =\n",
              "        google.colab.kernel.accessAllowed ? 'block' : 'none';\n",
              "    })();\n",
              "  </script>\n",
              "</div>\n",
              "    </div>\n",
              "  </div>\n"
            ],
            "application/vnd.google.colaboratory.intrinsic+json": {
              "type": "dataframe",
              "variable_name": "df",
              "summary": "{\n  \"name\": \"df\",\n  \"rows\": 14054,\n  \"fields\": [\n    {\n      \"column\": \"id_group\",\n      \"properties\": {\n        \"dtype\": \"number\",\n        \"std\": 0,\n        \"min\": -94,\n        \"max\": -94,\n        \"num_unique_values\": 1,\n        \"samples\": [\n          -94\n        ],\n        \"semantic_type\": \"\",\n        \"description\": \"\"\n      }\n    },\n    {\n      \"column\": \"id_post\",\n      \"properties\": {\n        \"dtype\": \"number\",\n        \"std\": 18036,\n        \"min\": 1,\n        \"max\": 57196,\n        \"num_unique_values\": 14054,\n        \"samples\": [\n          25934\n        ],\n        \"semantic_type\": \"\",\n        \"description\": \"\"\n      }\n    },\n    {\n      \"column\": \"data\",\n      \"properties\": {\n        \"dtype\": \"object\",\n        \"num_unique_values\": 14053,\n        \"samples\": [\n          \"2018-08-20 12:20:01\"\n        ],\n        \"semantic_type\": \"\",\n        \"description\": \"\"\n      }\n    },\n    {\n      \"column\": \"description\",\n      \"properties\": {\n        \"dtype\": \"category\",\n        \"num_unique_values\": 1245,\n        \"samples\": [\n          \"\\u041c\\u0435\\u0436\\u0434\\u0443\\u043d\\u0430\\u0440\\u043e\\u0434\\u043d\\u0430\\u044f \\u0433\\u0440\\u0443\\u043f\\u043f\\u0430 \\u0443\\u0447\\u0435\\u043d\\u044b\\u0445 \\u0438\\u0437 \\u0423\\u043d\\u0438\\u0432\\u0435\\u0440\\u0441\\u0438\\u0442\\u0435\\u0442\\u0430 \\u0412\\u0430\\u0448\\u0438\\u043d\\u0433\\u0442\\u043e\\u043d\\u0430 \\u0432 \\u0421\\u0435\\u043d\\u0442-\\u041b\\u0443\\u0438\\u0441\\u0435 \\u0432 \\u0421\\u0428\\u0410 \\u0438 \\u0423\\u043d\\u0438\\u0432\\u0435\\u0440\\u0441\\u0438\\u0442\\u0435\\u0442\\u0430 \\u0418\\u0422\\u041c\\u041e \\u044d\\u043a\\u0441\\u043f\\u0435\\u0440\\u0438\\u043c\\u0435\\u043d\\u0442\\u0430\\u043b\\u044c\\u043d\\u043e \\u0434\\u043e\\u043a\\u0430\\u0437\\u0430\\u043b\\u0430, \\u0447\\u0442\\u043e \\u043a\\u0438\\u0448\\u0435\\u0447\\u043d\\u0430\\u044f \\u043c\\u0438\\u043a\\u0440\\u043e\\u0431\\u0438\\u043e\\u0442\\u0430 \\u043c\\u044b\\u0448\\u0435\\u0439 \\u0432\\u043b\\u0438\\u044f\\u0435\\u0442 \\u043d\\u0430 \\u0444\\u043e\\u0440\\u043c\\u0438\\u0440\\u043e\\u0432\\u0430\\u043d\\u0438\\u0435 \\u0438\\u043c\\u043c\\u0443\\u043d\\u043d\\u043e\\u0433\\u043e \\u043e\\u0442\\u0432\\u0435\\u0442\\u0430 \\u043e\\u0440\\u0433\\u0430\\u043d\\u0438\\u0437\\u043c\\u0430 \\u043f\\u0440\\u0438 \\u0437\\u0430\\u0440\\u0430\\u0436\\u0435\\u043d\\u0438\\u0438 \\u0432\\u0438\\u0440\\u0443\\u0441\\u043e\\u043c \\u0433\\u0440\\u0438\\u043f\\u043f\\u0430. \\u041c\\u0435\\u0442\\u0430\\u0431\\u043e\\u043b\\u0438\\u0442\\u044b, \\u043a\\u043e\\u0442\\u043e\\u0440\\u044b\\u0435 \\u043e\\u0431\\u0440\\u0430\\u0437\\u0443\\u044e\\u0442\\u0441\\u044f \\u0432 \\u0440\\u0435\\u0437\\u0443\\u043b\\u044c\\u0442\\u0430\\u0442\\u0435 \\u0434\\u0435\\u044f\\u0442\\u0435\\u043b\\u044c\\u043d\\u043e\\u0441\\u0442\\u0438 \\u043a\\u0438\\u0448\\u0435\\u0447\\u043d\\u044b\\u0445 \\u0431\\u0430\\u043a\\u0442\\u0435\\u0440\\u0438\\u0439, \\u0441\\u0442\\u0438\\u043c\\u0443\\u043b\\u0438\\u0440\\u0443\\u044e\\u0442 \\u0432\\u044b\\u0440\\u0430\\u0431\\u043e\\u0442\\u043a\\u0443 \\u0438\\u043d\\u0442\\u0435\\u0440\\u0444\\u0435\\u0440\\u043e\\u043d\\u0430. \\u042d\\u0442\\u043e \\u0431\\u0435\\u043b\\u043e\\u043a, \\u043a\\u043e\\u0442\\u043e\\u0440\\u044b\\u0439 \\u043f\\u043e\\u0434\\u0430\\u0432\\u043b\\u044f\\u0435\\u0442 \\u0440\\u0430\\u0437\\u043c\\u043d\\u043e\\u0436\\u0435\\u043d\\u0438\\u0435 \\u0432\\u0438\\u0440\\u0443\\u0441\\u0430. \\u0420\\u0435\\u0437\\u0443\\u043b\\u044c\\u0442\\u0430\\u0442\\u044b \\u043e\\u0442\\u043a\\u0440\\u044b\\u0442\\u0438\\u044f \\u0431\\u044b\\u043b\\u0438 \\u043e\\u043f\\u0443\\u0431\\u043b\\u0438\\u043a\\u043e\\u0432\\u0430\\u043d\\u044b \\u0432 \\u0436\\u0443\\u0440\\u043d\\u0430\\u043b\\u0435 Science.\"\n        ],\n        \"semantic_type\": \"\",\n        \"description\": \"\"\n      }\n    },\n    {\n      \"column\": \"title\",\n      \"properties\": {\n        \"dtype\": \"category\",\n        \"num_unique_values\": 2165,\n        \"samples\": [\n          \"\\u0424\\u0443\\u0442\\u0431\\u043e\\u043b \\u043a\\u0430\\u043a \\u0442\\u043e\\u0447\\u043d\\u0430\\u044f \\u043d\\u0430\\u0443\\u043a\\u0430: \\u043a\\u0430\\u043a \\u0423\\u043d\\u0438\\u0432\\u0435\\u0440\\u0441\\u0438\\u0442\\u0435\\u0442 \\u0418\\u0422\\u041c\\u041e \\u043f\\u043e\\u043c\\u043e\\u0433\\u0430\\u0435\\u0442 \\u043e\\u0440\\u0433\\u0430\\u043d\\u0438\\u0437\\u0430\\u0442\\u043e\\u0440\\u0430\\u043c \\u041a\\u0443\\u0431\\u043a\\u0430 \\u043a\\u043e\\u043d\\u0444\\u0435\\u0434\\u0435\\u0440\\u0430\\u0446\\u0438\\u0439 \\u0438 \\u0427\\u041c-2018\"\n        ],\n        \"semantic_type\": \"\",\n        \"description\": \"\"\n      }\n    },\n    {\n      \"column\": \"text\",\n      \"properties\": {\n        \"dtype\": \"string\",\n        \"num_unique_values\": 13973,\n        \"samples\": [\n          \"\\u0435\\u0441\\u043b\\u0438 \\u043f\\u044c\\u044f\\u043d\\u043a\\u0430 \\u043c\\u0435\\u0448\\u0430\\u0435\\u0442 \\u0443\\u0447\\u0435\\u0431\\u0435 - \\u0442\\u043e \\u043d\\u0443 \\u0435\\u0435 \\u043d\\u0430 \\u0444\\u0438\\u0433... \\u044d\\u0442\\u0443 \\u0443\\u0447\\u0435\\u0431\\u0443\\n\\n\\u0434\\u0440\\u0443\\u0437\\u044c\\u044f, \\u0430 \\u0447\\u0442\\u043e \\u043c\\u044b \\u0432\\u0441\\u0435 \\u043f\\u0440\\u043e \\u0443\\u0447\\u0435\\u0431\\u0443 \\u0434\\u0430 \\u043f\\u0440\\u043e \\u0443\\u0447\\u0435\\u0431\\u0443?\"\n        ],\n        \"semantic_type\": \"\",\n        \"description\": \"\"\n      }\n    },\n    {\n      \"column\": \"views\",\n      \"properties\": {\n        \"dtype\": \"number\",\n        \"std\": 16283.262818479732,\n        \"min\": 1542.0,\n        \"max\": 850279.0,\n        \"num_unique_values\": 3904,\n        \"samples\": [\n          348823.0\n        ],\n        \"semantic_type\": \"\",\n        \"description\": \"\"\n      }\n    },\n    {\n      \"column\": \"likes\",\n      \"properties\": {\n        \"dtype\": \"number\",\n        \"std\": 71,\n        \"min\": 0,\n        \"max\": 4367,\n        \"num_unique_values\": 366,\n        \"samples\": [\n          577\n        ],\n        \"semantic_type\": \"\",\n        \"description\": \"\"\n      }\n    },\n    {\n      \"column\": \"reposts\",\n      \"properties\": {\n        \"dtype\": \"number\",\n        \"std\": 25,\n        \"min\": 0,\n        \"max\": 987,\n        \"num_unique_values\": 192,\n        \"samples\": [\n          118\n        ],\n        \"semantic_type\": \"\",\n        \"description\": \"\"\n      }\n    },\n    {\n      \"column\": \"processed_text\",\n      \"properties\": {\n        \"dtype\": \"string\",\n        \"num_unique_values\": 13839,\n        \"samples\": [\n          \"\\u0441\\u0435\\u0441\\u0441\\u0438\\u044f \\u0437\\u0430\\u043a\\u0440\\u044b\\u0442\\u044c \\u0441\\u0435\\u0433\\u043e\\u0434\\u043d\\u044f \\u0443\\u0440\\u0430\\u0430\\u0430\\u0430\\u0430\\u0430\\u0430\\u0430\\u0430\\u0430\\u0430\\u0430\\u0430\\u0430\\u0430\\u0430\\u0430\\u0430 \\u043f\\u043e\\u0441\\u043b\\u0435\\u0434\\u043d\\u0438\\u0439 \\u0441\\u0435\\u0441\\u0441\\u0438\\u044f\"\n        ],\n        \"semantic_type\": \"\",\n        \"description\": \"\"\n      }\n    }\n  ]\n}"
            }
          },
          "metadata": {},
          "execution_count": 12
        }
      ]
    },
    {
      "cell_type": "code",
      "source": [
        "import numpy as np\n",
        "\n",
        "# Загрузка данных векторов методом Word2Vec из файла\n",
        "vectors_wv = np.load(\"/content/drive/MyDrive/word2vec_vectors.npy\")\n",
        "\n",
        "# Вывод первых строк\n",
        "print(vectors_wv[:5])"
      ],
      "metadata": {
        "colab": {
          "base_uri": "https://localhost:8080/"
        },
        "id": "aN2ClbcDQaNm",
        "outputId": "dfb94ce7-a453-4b91-91e2-e69588b2bd60"
      },
      "execution_count": null,
      "outputs": [
        {
          "output_type": "stream",
          "name": "stdout",
          "text": [
            "[[-0.06475276  0.00477081  0.01552755 ...  0.04893025 -0.04911068\n",
            "   0.01917364]\n",
            " [ 0.01883718 -0.00407822  0.00325054 ...  0.01734087 -0.0292731\n",
            "  -0.01256763]\n",
            " [ 0.00117679  0.01816967 -0.00049315 ...  0.02281608 -0.02196103\n",
            "  -0.00239539]\n",
            " [ 0.01353688  0.01516888 -0.01883488 ...  0.01475182 -0.03057989\n",
            "  -0.01262961]\n",
            " [ 0.01576324 -0.00426953 -0.01952407 ...  0.00791807 -0.04074295\n",
            "  -0.01524256]]\n"
          ]
        }
      ]
    },
    {
      "cell_type": "code",
      "source": [
        "from sklearn.model_selection import train_test_split\n",
        "\n",
        "# Разделение данных\n",
        "X = vectors_wv\n",
        "y = (df['likes'] > df['likes'].median()).astype(int)  # Популярный пост, если просмотры выше медианы\n",
        "\n",
        "X_train, X_test, y_train, y_test = train_test_split(X, y, test_size=0.2, random_state=42)"
      ],
      "metadata": {
        "id": "zMhCgQHwazSn"
      },
      "execution_count": null,
      "outputs": []
    },
    {
      "cell_type": "markdown",
      "source": [
        "# Логистическая регрессия"
      ],
      "metadata": {
        "id": "rFyCUUNyECiE"
      }
    },
    {
      "cell_type": "code",
      "source": [
        "from sklearn.linear_model import LogisticRegression"
      ],
      "metadata": {
        "id": "5It3OsHdC7C6"
      },
      "execution_count": null,
      "outputs": []
    },
    {
      "cell_type": "code",
      "source": [
        "#классификатор\n",
        "clf = LogisticRegression(\n",
        "        penalty = 'l2', #{‘l1’, ‘l2’, ‘elasticnet’, None}, default=’l2’\n",
        "        C = 0.2, #float, default=1.0\n",
        "        class_weight = 'balanced', #dict or ‘balanced’, default=None\n",
        "        random_state = 42,\n",
        "        max_iter = 100, #int, default=100\n",
        "        n_jobs = -1, #int, default=None\n",
        ")"
      ],
      "metadata": {
        "id": "XYvsU-jCC7C9"
      },
      "execution_count": null,
      "outputs": []
    },
    {
      "cell_type": "code",
      "source": [
        "#предобученный классификатор\n",
        "clf_pretrained = clf.fit(X_train, y_train)"
      ],
      "metadata": {
        "id": "3dbGwcZ7C7C-"
      },
      "execution_count": null,
      "outputs": []
    },
    {
      "cell_type": "code",
      "source": [
        "#результат предсказания\n",
        "y_predict = clf_pretrained.predict(X_test)\n",
        "print(y_predict)\n",
        "print(y_test)"
      ],
      "metadata": {
        "colab": {
          "base_uri": "https://localhost:8080/"
        },
        "id": "Mwsy3dcsC7C_",
        "outputId": "e0543955-93ff-42bf-af12-54ab22dccf02"
      },
      "execution_count": null,
      "outputs": [
        {
          "output_type": "stream",
          "name": "stdout",
          "text": [
            "[1 0 0 ... 0 0 1]\n",
            "6272     0\n",
            "1293     1\n",
            "4469     1\n",
            "296      1\n",
            "2892     1\n",
            "        ..\n",
            "13877    0\n",
            "730      1\n",
            "13035    0\n",
            "12166    0\n",
            "1140     1\n",
            "Name: likes, Length: 2811, dtype: int64\n"
          ]
        }
      ]
    },
    {
      "cell_type": "code",
      "execution_count": null,
      "metadata": {
        "id": "pJrYAZulDm8d"
      },
      "outputs": [],
      "source": [
        "from sklearn.metrics import classification_report"
      ]
    },
    {
      "cell_type": "markdown",
      "source": [
        "Можем увидеть, что точность логистической регрессии составялет 0.7449"
      ],
      "metadata": {
        "id": "s26Q_0kzEX36"
      }
    },
    {
      "cell_type": "code",
      "execution_count": null,
      "metadata": {
        "outputId": "ce4d152b-f050-4593-f20c-caa564d198c7",
        "colab": {
          "base_uri": "https://localhost:8080/"
        },
        "id": "NZdhpr8aDm8e"
      },
      "outputs": [
        {
          "output_type": "stream",
          "name": "stdout",
          "text": [
            "              precision    recall  f1-score   support\n",
            "\n",
            "           0     0.7863    0.6871    0.7334      1435\n",
            "           1     0.7116    0.8052    0.7555      1376\n",
            "\n",
            "    accuracy                         0.7449      2811\n",
            "   macro avg     0.7490    0.7462    0.7444      2811\n",
            "weighted avg     0.7497    0.7449    0.7442      2811\n",
            "\n"
          ]
        }
      ],
      "source": [
        "print(classification_report(y_test, y_predict, digits = 4))"
      ]
    },
    {
      "cell_type": "markdown",
      "source": [
        "# Случайный лес\n",
        "\n"
      ],
      "metadata": {
        "id": "KCMD3PRFE1Y9"
      }
    },
    {
      "cell_type": "code",
      "execution_count": null,
      "metadata": {
        "id": "-95FUelUFOSv"
      },
      "outputs": [],
      "source": [
        "from sklearn.ensemble import RandomForestClassifier"
      ]
    },
    {
      "cell_type": "code",
      "execution_count": null,
      "metadata": {
        "id": "Mn5pVkxNFOSx"
      },
      "outputs": [],
      "source": [
        "clf_rf =  RandomForestClassifier(\n",
        "        n_estimators = 200, #int, default=100\n",
        "        criterion = 'gini', #{“gini”, “entropy”, “log_loss”}, default=”gini”\n",
        "        max_depth = 200, #int, default=None\n",
        "        class_weight = 'balanced', #dict or ‘balanced’, default=None\n",
        "        random_state = 42\n",
        ")"
      ]
    },
    {
      "cell_type": "code",
      "execution_count": null,
      "metadata": {
        "id": "J6ISvFakFOSy"
      },
      "outputs": [],
      "source": [
        "#предобученный классификатор\n",
        "clf_rf = clf_rf.fit(X_train, y_train)\n",
        "y_predict_rf = clf_rf.predict(X_test)"
      ]
    },
    {
      "cell_type": "markdown",
      "source": [
        "Можем увидеть, что точность классификатора случайный лес составялет 0.8111"
      ],
      "metadata": {
        "id": "tzbOwEVJE1ZD"
      }
    },
    {
      "cell_type": "code",
      "execution_count": null,
      "metadata": {
        "outputId": "fc358e2c-5614-41da-dd2b-977e2db1dd5f",
        "colab": {
          "base_uri": "https://localhost:8080/"
        },
        "id": "NQO_-BvNE1ZD"
      },
      "outputs": [
        {
          "output_type": "stream",
          "name": "stdout",
          "text": [
            "              precision    recall  f1-score   support\n",
            "\n",
            "           0     0.8100    0.8230    0.8165      1435\n",
            "           1     0.8123    0.7987    0.8054      1376\n",
            "\n",
            "    accuracy                         0.8111      2811\n",
            "   macro avg     0.8111    0.8108    0.8109      2811\n",
            "weighted avg     0.8111    0.8111    0.8111      2811\n",
            "\n"
          ]
        }
      ],
      "source": [
        "print(classification_report(y_test, y_predict_rf, digits = 4))"
      ]
    },
    {
      "cell_type": "markdown",
      "source": [
        "# K-ближайших соседей\n",
        "\n"
      ],
      "metadata": {
        "id": "uDWecs61GRGC"
      }
    },
    {
      "cell_type": "code",
      "execution_count": null,
      "metadata": {
        "id": "DuePP_LbGbun"
      },
      "outputs": [],
      "source": [
        "from sklearn.neighbors import KNeighborsClassifier"
      ]
    },
    {
      "cell_type": "code",
      "execution_count": null,
      "metadata": {
        "id": "WrGUEDITGbux"
      },
      "outputs": [],
      "source": [
        "clf_KNN = KNeighborsClassifier(\n",
        "        n_neighbors = 3, #int, default=5\n",
        "        weights = 'distance', #{‘uniform’, ‘distance’}, callable or None, default=’uniform’\n",
        "        metric = 'euclidean', #str or callable, default=’minkowski’\n",
        ")"
      ]
    },
    {
      "cell_type": "code",
      "execution_count": null,
      "metadata": {
        "id": "iSEqVM8eGbu1"
      },
      "outputs": [],
      "source": [
        "clf_KNN = clf_KNN.fit(X_train, y_train)\n",
        "y_predict_KNN = clf_KNN.predict(X_test)"
      ]
    },
    {
      "cell_type": "markdown",
      "source": [
        "Можем увидеть, что точность классификатора случайный лес составялет 0.7254"
      ],
      "metadata": {
        "id": "8HWN5VRTGRGK"
      }
    },
    {
      "cell_type": "code",
      "execution_count": null,
      "metadata": {
        "outputId": "b5ade91d-1cb3-48c3-e241-2dafffbd4aef",
        "colab": {
          "base_uri": "https://localhost:8080/"
        },
        "id": "zMcRoPWLGRGL"
      },
      "outputs": [
        {
          "output_type": "stream",
          "name": "stdout",
          "text": [
            "              precision    recall  f1-score   support\n",
            "\n",
            "           0     0.8435    0.5672    0.6783      1435\n",
            "           1     0.6636    0.8903    0.7604      1376\n",
            "\n",
            "    accuracy                         0.7254      2811\n",
            "   macro avg     0.7536    0.7288    0.7194      2811\n",
            "weighted avg     0.7554    0.7254    0.7185      2811\n",
            "\n"
          ]
        }
      ],
      "source": [
        "print(classification_report(y_test, y_predict_KNN, digits = 4))"
      ]
    },
    {
      "cell_type": "markdown",
      "source": [
        "#ИТОГ\n",
        "Самый лучший классификатор по метрикам accuracy и f1_score - случайный лес с точностью 0.811 и 0.810"
      ],
      "metadata": {
        "id": "1tNPgDi2InOm"
      }
    },
    {
      "cell_type": "code",
      "source": [
        "from sklearn.metrics import f1_score"
      ],
      "metadata": {
        "id": "F7vE4bROd5IG"
      },
      "execution_count": null,
      "outputs": []
    },
    {
      "cell_type": "code",
      "source": [
        "print('Логистическая регрессия',f1_score(y_test, y_predict, average='macro'))\n",
        "print('Случайный лес',f1_score(y_test, y_predict_rf, average='macro'))\n",
        "print('K-ближайших соседей',f1_score(y_test, y_predict_KNN, average='macro'))"
      ],
      "metadata": {
        "colab": {
          "base_uri": "https://localhost:8080/"
        },
        "id": "iLwKjzThhFI8",
        "outputId": "3e97cce0-46cd-4df3-d54e-0fed02734ff7"
      },
      "execution_count": null,
      "outputs": [
        {
          "output_type": "stream",
          "name": "stdout",
          "text": [
            "Логистическая регрессия 0.7444492640078653\n",
            "Случайный лес 0.810938370210907\n",
            "K-ближайших соседей 0.7193653010552452\n"
          ]
        }
      ]
    },
    {
      "cell_type": "markdown",
      "source": [
        "# Лабораторная работа 7"
      ],
      "metadata": {
        "id": "3Ieq3GV2TweE"
      }
    },
    {
      "cell_type": "markdown",
      "source": [
        "1. Взять любые вектора W2V\n",
        "2. Взять наилучший классификатор из предыдущей лабы Случайный лес\n",
        "3. Подобрать к нему гиперпараметры любым методом HalvingGridSearch\n",
        "4. Выполнить предсказания популярности нового поста"
      ],
      "metadata": {
        "id": "HlGKn5EzT0kT"
      }
    },
    {
      "cell_type": "code",
      "source": [
        "#Разделяем данные на тренировочный набор, проверочный и тестовый\n",
        "X_train, X_test, y_train, y_test = train_test_split(X, y, test_size=0.30, random_state=42)\n",
        "X_val, X_test, y_val, y_test = train_test_split(X_test, y_test, test_size=0.50, random_state=42)"
      ],
      "metadata": {
        "id": "RxkQEmWpvu9e"
      },
      "execution_count": null,
      "outputs": []
    },
    {
      "cell_type": "code",
      "source": [
        "from sklearn.experimental import enable_halving_search_cv\n",
        "from sklearn.model_selection import HalvingGridSearchCV\n",
        "from sklearn.pipeline import Pipeline"
      ],
      "metadata": {
        "id": "bpt0Y2J_RZUx"
      },
      "execution_count": null,
      "outputs": []
    },
    {
      "cell_type": "code",
      "source": [
        "#определяем классификатор\n",
        "pipeline = Pipeline([('clf', RandomForestClassifier())])"
      ],
      "metadata": {
        "id": "wiDNqqprS4DV"
      },
      "execution_count": null,
      "outputs": []
    },
    {
      "cell_type": "code",
      "source": [
        "# Определим сетку параметров для случайного леса\n",
        "parameters = {\n",
        "    'clf__n_estimators': [50, 100, 200],\n",
        "    'clf__max_depth': [None, 50, 100, 200],\n",
        "    'clf__min_samples_leaf': [1, 2, 4]\n",
        "}\n",
        "\n",
        "halving_search = HalvingGridSearchCV(\n",
        "    estimator=pipeline,\n",
        "    param_grid=parameters,\n",
        "    cv = 5,\n",
        "    factor=1.2,\n",
        "    random_state=0,\n",
        ")"
      ],
      "metadata": {
        "id": "qtpWTBmtTEA6"
      },
      "execution_count": null,
      "outputs": []
    },
    {
      "cell_type": "code",
      "source": [
        "halving_search.fit(X_train, y_train)"
      ],
      "metadata": {
        "id": "72ZZnqGPTMxb"
      },
      "execution_count": null,
      "outputs": []
    },
    {
      "cell_type": "code",
      "source": [
        "best_parameters = halving_search.best_estimator_.get_params()\n",
        "for param_name in sorted(parameters.keys()):\n",
        "    print(f\"{param_name}: {best_parameters[param_name]}\")"
      ],
      "metadata": {
        "id": "wGwzOkYpTN6b"
      },
      "execution_count": null,
      "outputs": []
    },
    {
      "cell_type": "code",
      "source": [
        "y_pred_optimized = halving_search.best_estimator_.predict(X_test)\n",
        "print(classification_report(y_test, y_pred_optimized))"
      ],
      "metadata": {
        "id": "w6uSd7v2TRSg"
      },
      "execution_count": null,
      "outputs": []
    }
  ]
}